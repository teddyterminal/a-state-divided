{
 "cells": [
  {
   "cell_type": "code",
   "execution_count": 181,
   "metadata": {},
   "outputs": [],
   "source": [
    "import matplotlib.pyplot as plt\n",
    "from gerrychain import (GeographicPartition, Partition, Graph, MarkovChain,\n",
    "                        proposals, updaters, constraints, accept, Election)\n",
    "from gerrychain.proposals import recom\n",
    "from functools import partial\n",
    "import pandas"
   ]
  },
  {
   "cell_type": "code",
   "execution_count": 323,
   "metadata": {},
   "outputs": [],
   "source": [
    "from gerrychain import Graph, Partition, Election\n",
    "from gerrychain.updaters import Tally, cut_edges\n",
    "import geopandas as gpd\n",
    "\n",
    "graph = Graph.from_file(\"PA/full/PA_VTD.shp\")\n",
    "\n",
    "\n"
   ]
  },
  {
   "cell_type": "code",
   "execution_count": 183,
   "metadata": {},
   "outputs": [],
   "source": [
    "elections = [\n",
    "    Election(\"SEN10\", {\"Democratic\": \"SEN10D\", \"Republican\": \"SEN10R\"}),\n",
    "    Election(\"SEN12\", {\"Democratic\": \"USS12D\", \"Republican\": \"USS12R\"}),\n",
    "    Election(\"SEN16\", {\"Democratic\": \"T16SEND\", \"Republican\": \"T16SENR\"}),\n",
    "    Election(\"PRES12\", {\"Democratic\": \"PRES12D\", \"Republican\": \"PRES12R\"}),\n",
    "    Election(\"PRES16\", {\"Democratic\": \"T16PRESD\", \"Republican\": \"T16PRESR\", \"Other\": \"T16PRESOTH\"})\n",
    "]"
   ]
  },
  {
   "cell_type": "code",
   "execution_count": 225,
   "metadata": {},
   "outputs": [],
   "source": [
    "\n",
    "# Population updater, for computing how close to equality the district\n",
    "# populations are. \"TOT_POP\" is the population column from our shapefile.\n",
    "my_updaters = {\"population\": updaters.Tally(\"TOT_POP\", alias=\"population\"), \n",
    "                \"whites\": updaters.Tally(\"WHITE_POP\", alias=\"whites\"),\n",
    "                \"dem\": updaters.Tally(\"T16PRESD\", alias=\"dem\"),\n",
    "                \"rep\": updaters.Tally(\"T16PRESR\", alias=\"rep\"),\n",
    "                \"oth\": updaters.Tally(\"T16PRESOTH\", alias=\"oth\"), \n",
    "                \"d12\": updaters.Tally(\"PRES12D\", alias = \"d12\"), \n",
    "                \"r12\": updaters.Tally(\"PRES12R\", alias = \"r12\"), \n",
    "                \"o12\": updaters.Tally(\"PRES12O\", alias = \"o12\")}\n",
    "\n",
    "# Election updaters, for computing election results using the vote totals\n",
    "# from our shapefile.\n",
    "election_updaters = {election.name: election for election in elections}\n",
    "my_updaters.update(election_updaters)"
   ]
  },
  {
   "cell_type": "code",
   "execution_count": 329,
   "metadata": {},
   "outputs": [],
   "source": [
    "initial_partition = GeographicPartition(\n",
    "    graph,\n",
    "    assignment=\"REMEDIAL_P\",\n",
    "    updaters={\n",
    "        \"cut_edges\": cut_edges,\n",
    "        \"population\": Tally(\"TOT_POP\", alias=\"population\"),\n",
    "        \"whites\": Tally(\"WHITE_POP\", alias=\"whites\"),\n",
    "        \"dem\": Tally(\"T16PRESD\", alias=\"dem\"),\n",
    "        \"rep\": Tally(\"T16PRESR\", alias=\"rep\"),\n",
    "        \"oth\": Tally(\"T16PRESOTH\", alias=\"oth\"),\n",
    "        \"PRES16\": election\n",
    "    }\n",
    ")\n"
   ]
  },
  {
   "cell_type": "code",
   "execution_count": 330,
   "metadata": {},
   "outputs": [],
   "source": [
    "compactness_bound = constraints.UpperBound(\n",
    "    lambda p: len(p[\"cut_edges\"]),\n",
    "    len(initial_partition[\"cut_edges\"])\n",
    ")\n",
    "\n",
    "pop_constraint = constraints.within_percent_of_ideal_population(initial_partition, 0.03)"
   ]
  },
  {
   "cell_type": "code",
   "execution_count": 332,
   "metadata": {},
   "outputs": [],
   "source": [
    "chain = MarkovChain(\n",
    "    proposal=proposal,\n",
    "    constraints=[\n",
    "        pop_constraint,\n",
    "        compactness_bound\n",
    "    ],\n",
    "    accept=accept.always_accept,\n",
    "    initial_state=initial_partition,\n",
    "    total_steps=1002\n",
    ")"
   ]
  },
  {
   "cell_type": "code",
   "execution_count": 331,
   "metadata": {},
   "outputs": [],
   "source": [
    "# The ReCom proposal needs to know the ideal population for the districts so that\n",
    "# we can improve speed by bailing early on unbalanced partitions.\n",
    "\n",
    "ideal_population = sum(initial_partition[\"population\"].values()) / len(initial_partition)\n",
    "\n",
    "# We use functools.partial to bind the extra parameters (pop_col, pop_target, epsilon, node_repeats)\n",
    "# of the recom proposal.\n",
    "proposal = partial(recom,\n",
    "                   pop_col=\"TOTPOP\",\n",
    "                   pop_target=ideal_population,\n",
    "                   epsilon=0.02,\n",
    "                   node_repeats=2\n",
    "                  )"
   ]
  },
  {
   "cell_type": "code",
   "execution_count": null,
   "metadata": {},
   "outputs": [],
   "source": [
    "\n"
   ]
  },
  {
   "cell_type": "code",
   "execution_count": 336,
   "metadata": {},
   "outputs": [],
   "source": [
    "j = 1 \n",
    "\n",
    "aaa = \"\"\"for partition in chain: \n",
    "    \n",
    "    if j%10 == 0: \n",
    "        shp = \"./IA/\" + str(int(j/10)) + \"/districts.shp\"\n",
    "        ft = \"./IA/\" + str(int(j/10)) + \"/features.csv\"\n",
    "        assignment = {}\n",
    "        for i in partition.assignment: \n",
    "            assignment[i] = partition.assignment[i]\n",
    "        df2 = df.copy(deep = True)\n",
    "        print(\"Copied\", j)\n",
    "        df2[\"CD\"] = df2.index.map(assignment)\n",
    "        print(\"Mapped\", j)\n",
    "        gf = df2.dissolve(by='CD')\n",
    "        gf[\"CD\"] = gf.index\n",
    "        print(\"Dissolved\", j)\n",
    "        gf.to_file(shp) \n",
    "        d = {}\n",
    "        print(\"Features\", j)\n",
    "        for i in range(1, 5): \n",
    "            d[i] = {}\n",
    "            d[i][\"Population\"] = partition[\"population\"][i]\n",
    "            d[i][\"White\"] = partition[\"whites\"][i]\n",
    "            d[i][\"Democratic\"] = partition[\"dem\"][i]\n",
    "            d[i][\"Republican\"] = partition[\"rep\"][i]\n",
    "            d[i][\"Other\"] = partition[\"oth\"][i]\n",
    "\n",
    "        dft = pd.DataFrame(d).T\n",
    "        dft.to_csv(ft)\n",
    "        print(\"feat!!!\")\n",
    "    print(j)\n",
    "    j += 1\n",
    "\"\"\"\n"
   ]
  },
  {
   "cell_type": "code",
   "execution_count": null,
   "metadata": {},
   "outputs": [],
   "source": []
  },
  {
   "cell_type": "code",
   "execution_count": 147,
   "metadata": {},
   "outputs": [],
   "source": [
    "assignment = {}\n",
    "for i in initial_partition.assignment: \n",
    "    assignment[i] = initial_partition.assignment[i]"
   ]
  },
  {
   "cell_type": "code",
   "execution_count": null,
   "metadata": {},
   "outputs": [],
   "source": []
  },
  {
   "cell_type": "code",
   "execution_count": null,
   "metadata": {},
   "outputs": [],
   "source": []
  },
  {
   "cell_type": "code",
   "execution_count": 325,
   "metadata": {},
   "outputs": [],
   "source": [
    "election = Election(\"PRES16\", {\"Dem\": \"PRES16D\", \"Rep\": \"PRES16R\"})\n",
    "\n",
    "initial_partition = Partition(\n",
    "    graph,\n",
    "    assignment=\"REMEDIAL_P\",\n",
    "    updaters={\n",
    "        \"cut_edges\": cut_edges,\n",
    "        \"population\": Tally(\"TOT_POP\", alias=\"population\"),\n",
    "        \"whites\": Tally(\"WHITE_POP\", alias=\"whites\"),\n",
    "        \"dem\": Tally(\"T16PRESD\", alias=\"dem\"),\n",
    "        \"rep\": Tally(\"T16PRESR\", alias=\"rep\"),\n",
    "        \"oth\": Tally(\"T16PRESOTH\", alias=\"oth\"),\n",
    "        \"PRES16\": election\n",
    "    }\n",
    ")"
   ]
  },
  {
   "cell_type": "code",
   "execution_count": 327,
   "metadata": {},
   "outputs": [],
   "source": [
    "d = {}\n",
    "\n",
    "for i in range(1, 19): \n",
    "    d[i] = {}\n",
    "    d[i][\"Population\"] = initial_partition[\"population\"][i]\n",
    "    d[i][\"White\"] = initial_partition[\"whites\"][i]\n",
    "    d[i][\"Democratic\"] = initial_partition[\"dem\"][i]\n",
    "    d[i][\"Republican\"] = initial_partition[\"rep\"][i]\n",
    "    d[i][\"Other\"] = initial_partition[\"oth\"][i]\n",
    "\n",
    "    \n",
    "dft = pd.DataFrame(d).T\n",
    "dft.to_csv(\"PA/d18/features.csv\")"
   ]
  },
  {
   "cell_type": "code",
   "execution_count": null,
   "metadata": {},
   "outputs": [],
   "source": []
  },
  {
   "cell_type": "code",
   "execution_count": null,
   "metadata": {},
   "outputs": [],
   "source": []
  },
  {
   "cell_type": "code",
   "execution_count": 337,
   "metadata": {
    "scrolled": true
   },
   "outputs": [],
   "source": [
    "d = {}\n",
    "\n",
    "for i in range(1, 19): \n",
    "    k = str(i)\n",
    "    d[i] = {}\n",
    "    d[i][\"Population\"] = initial_partition[\"population\"][k]\n",
    "    d[i][\"White\"] = initial_partition[\"whites\"][k]\n",
    "    d[i][\"Democratic\"] = initial_partition[\"dem\"][k]\n",
    "    d[i][\"Republican\"] = initial_partition[\"rep\"][k]\n",
    "    d[i][\"Other\"] = initial_partition[\"oth\"][k]"
   ]
  },
  {
   "cell_type": "code",
   "execution_count": 112,
   "metadata": {},
   "outputs": [],
   "source": []
  },
  {
   "cell_type": "code",
   "execution_count": 90,
   "metadata": {},
   "outputs": [
    {
     "data": {
      "text/plain": [
       "{}"
      ]
     },
     "execution_count": 90,
     "metadata": {},
     "output_type": "execute_result"
    }
   ],
   "source": [
    "d"
   ]
  },
  {
   "cell_type": "code",
   "execution_count": null,
   "metadata": {},
   "outputs": [],
   "source": []
  },
  {
   "cell_type": "code",
   "execution_count": 52,
   "metadata": {},
   "outputs": [],
   "source": [
    "districts = {}\n",
    "for i in range(1, 19): \n",
    "    districts[i] = []\n",
    "    for k in initial_partition.parts[i]:\n",
    "        districts[i].append(k)"
   ]
  },
  {
   "cell_type": "code",
   "execution_count": null,
   "metadata": {},
   "outputs": [],
   "source": []
  },
  {
   "cell_type": "code",
   "execution_count": 54,
   "metadata": {},
   "outputs": [],
   "source": [
    "with open(\"assignment.json\", 'w') as outfile:\n",
    "    json.dump(districts, outfile)"
   ]
  },
  {
   "cell_type": "code",
   "execution_count": 49,
   "metadata": {},
   "outputs": [],
   "source": [
    "import json"
   ]
  },
  {
   "cell_type": "code",
   "execution_count": 55,
   "metadata": {},
   "outputs": [
    {
     "data": {
      "text/plain": [
       "<Graph [8921 nodes, 25228 edges]>"
      ]
     },
     "execution_count": 55,
     "metadata": {},
     "output_type": "execute_result"
    }
   ],
   "source": [
    "graph"
   ]
  },
  {
   "cell_type": "code",
   "execution_count": null,
   "metadata": {},
   "outputs": [],
   "source": []
  },
  {
   "cell_type": "code",
   "execution_count": null,
   "metadata": {},
   "outputs": [],
   "source": []
  },
  {
   "cell_type": "code",
   "execution_count": 78,
   "metadata": {},
   "outputs": [
    {
     "data": {
      "text/plain": [
       "8921"
      ]
     },
     "execution_count": 78,
     "metadata": {},
     "output_type": "execute_result"
    }
   ],
   "source": [
    "len(df)"
   ]
  },
  {
   "cell_type": "code",
   "execution_count": 127,
   "metadata": {},
   "outputs": [
    {
     "data": {
      "text/plain": [
       "14"
      ]
     },
     "execution_count": 127,
     "metadata": {},
     "output_type": "execute_result"
    }
   ],
   "source": [
    "initial_partition.assignment[0]"
   ]
  },
  {
   "cell_type": "code",
   "execution_count": null,
   "metadata": {},
   "outputs": [],
   "source": []
  },
  {
   "cell_type": "code",
   "execution_count": null,
   "metadata": {},
   "outputs": [],
   "source": []
  }
 ],
 "metadata": {
  "kernelspec": {
   "display_name": "Python 3",
   "language": "python",
   "name": "python3"
  },
  "language_info": {
   "codemirror_mode": {
    "name": "ipython",
    "version": 3
   },
   "file_extension": ".py",
   "mimetype": "text/x-python",
   "name": "python",
   "nbconvert_exporter": "python",
   "pygments_lexer": "ipython3",
   "version": "3.6.0"
  }
 },
 "nbformat": 4,
 "nbformat_minor": 2
}
